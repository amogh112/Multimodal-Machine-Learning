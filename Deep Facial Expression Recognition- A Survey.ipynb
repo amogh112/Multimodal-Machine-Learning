{
 "cells": [
  {
   "cell_type": "markdown",
   "metadata": {},
   "source": [
    "# Deep Facial Expression Recognition: A Survey"
   ]
  },
  {
   "cell_type": "markdown",
   "metadata": {},
   "source": [
    "#### Shan Li and Weihong Deng"
   ]
  },
  {
   "cell_type": "markdown",
   "metadata": {},
   "source": [
    "## Abstract"
   ]
  },
  {
   "cell_type": "markdown",
   "metadata": {},
   "source": [
    "1. Transition of facial expression recognition (FER) from  laboratory controlled to challenging in-the-wild conditions\n",
    "2. Deep neural nets used to learn discriminative representations for automatic FER.\n",
    "3. Focus of recent systems\n",
    "    - Overfitting because of lack of sufficient training data.\n",
    "    - Expression unrelated variations such as:\n",
    "        - Illumination\n",
    "        - Head Pose\n",
    "        - Identity Bias\n",
    "4. In this paper\n",
    "    - Available datasets\n",
    "        - Accepted data collection principles\n",
    "        - Accepted evaluation principles\n",
    "    - Standard pipeline of a deep FER system.\n",
    "        - Related background knowledge\n",
    "        - Suggestions of applicable implementations\n",
    "    - SotA in deep FER\n",
    "        - Strategies defined for\n",
    "            - Static \n",
    "            - Dynamic image sequences\n",
    "        - Their advantages and disadvantages.\n",
    "        - Performances on widely used benchmarks\n",
    "5. Additional related issues\n",
    "6. Application Scenarios\n",
    "7. Remaining challenges and corresponding opportunities\n",
    "8. Future direction for the design of robust deep FER systems"
   ]
  },
  {
   "cell_type": "markdown",
   "metadata": {},
   "source": [
    "## Introduction"
   ]
  },
  {
   "cell_type": "markdown",
   "metadata": {},
   "source": [
    "1. Facial expressions are universal signals to convey their emotional states and intentions.\n",
    "2. Importance in sociable robotics, medical treatment, driver fatigue, surveillance, other HCI systems.\n",
    "3. FER systems ave been explored to encode expression information from facial representations.\n",
    "4. Ekman and Friesen defined six basic emotions - anger, disgust, fear, happiness, sadness, surprise, contempt(recently added [5]).\n",
    "5. Advanced research on neuroscience and psychology argued mode of six basic emotions are culture specific and not universal."
   ]
  }
 ],
 "metadata": {
  "kernelspec": {
   "display_name": "Python 3",
   "language": "python",
   "name": "python3"
  },
  "language_info": {
   "codemirror_mode": {
    "name": "ipython",
    "version": 3
   },
   "file_extension": ".py",
   "mimetype": "text/x-python",
   "name": "python",
   "nbconvert_exporter": "python",
   "pygments_lexer": "ipython3",
   "version": "3.6.5"
  }
 },
 "nbformat": 4,
 "nbformat_minor": 2
}
